{
 "cells": [
  {
   "cell_type": "markdown",
   "metadata": {},
   "source": [
    "## Welcome to the Second Lab\n",
    "\n",
    "Today we will work with lots of models! This is a way to get comfortable with APIs."
   ]
  },
  {
   "cell_type": "code",
   "execution_count": 1,
   "metadata": {},
   "outputs": [],
   "source": [
    "# Start with imports - ask ChatGPT to explain any package that you don't know\n",
    "\n",
    "import os\n",
    "import json\n",
    "from dotenv import load_dotenv\n",
    "from openai import OpenAI\n",
    "from anthropic import Anthropic\n",
    "from IPython.display import Markdown, display"
   ]
  },
  {
   "cell_type": "code",
   "execution_count": 2,
   "metadata": {},
   "outputs": [
    {
     "data": {
      "text/plain": [
       "True"
      ]
     },
     "execution_count": 2,
     "metadata": {},
     "output_type": "execute_result"
    }
   ],
   "source": [
    "# Always remember to do this!\n",
    "load_dotenv(override=True)"
   ]
  },
  {
   "cell_type": "code",
   "execution_count": 3,
   "metadata": {},
   "outputs": [
    {
     "name": "stdout",
     "output_type": "stream",
     "text": [
      "OpenAI API Key exists and begins sk-proj-\n",
      "Anthropic API Key not set (and this is optional)\n",
      "Google API Key not set (and this is optional)\n",
      "DeepSeek API Key not set (and this is optional)\n",
      "Groq API Key not set (and this is optional)\n"
     ]
    }
   ],
   "source": [
    "# Print the key prefixes to help with any debugging\n",
    "\n",
    "openai_api_key = os.getenv('OPENAI_API_KEY') # paid\n",
    "anthropic_api_key = os.getenv('ANTHROPIC_API_KEY') # upfront 5$ or such\n",
    "google_api_key = os.getenv('GOOGLE_API_KEY') # free\n",
    "deepseek_api_key = os.getenv('DEEPSEEK_API_KEY') # 2$\n",
    "groq_api_key = os.getenv('GROQ_API_KEY') # pay only for what u use\n",
    "\n",
    "if openai_api_key:\n",
    "    print(f\"OpenAI API Key exists and begins {openai_api_key[:8]}\")\n",
    "else:\n",
    "    print(\"OpenAI API Key not set\")\n",
    "    \n",
    "if anthropic_api_key:\n",
    "    print(f\"Anthropic API Key exists and begins {anthropic_api_key[:7]}\")\n",
    "else:\n",
    "    print(\"Anthropic API Key not set (and this is optional)\")\n",
    "\n",
    "if google_api_key:\n",
    "    print(f\"Google API Key exists and begins {google_api_key[:2]}\")\n",
    "else:\n",
    "    print(\"Google API Key not set (and this is optional)\")\n",
    "\n",
    "if deepseek_api_key:\n",
    "    print(f\"DeepSeek API Key exists and begins {deepseek_api_key[:3]}\")\n",
    "else:\n",
    "    print(\"DeepSeek API Key not set (and this is optional)\")\n",
    "\n",
    "if groq_api_key:\n",
    "    print(f\"Groq API Key exists and begins {groq_api_key[:4]}\")\n",
    "else:\n",
    "    print(\"Groq API Key not set (and this is optional)\")"
   ]
  },
  {
   "cell_type": "code",
   "execution_count": 4,
   "metadata": {},
   "outputs": [],
   "source": [
    "request = \"Please come up with a challenging, nuanced question that I can ask a number of LLMs to evaluate their intelligence. \"\n",
    "request += \"Answer only with the question, no explanation.\"\n",
    "messages = [{\"role\": \"user\", \"content\": request}]"
   ]
  },
  {
   "cell_type": "code",
   "execution_count": 5,
   "metadata": {},
   "outputs": [
    {
     "data": {
      "text/plain": [
       "[{'role': 'user',\n",
       "  'content': 'Please come up with a challenging, nuanced question that I can ask a number of LLMs to evaluate their intelligence. Answer only with the question, no explanation.'}]"
      ]
     },
     "execution_count": 5,
     "metadata": {},
     "output_type": "execute_result"
    }
   ],
   "source": [
    "messages"
   ]
  },
  {
   "cell_type": "code",
   "execution_count": 6,
   "metadata": {},
   "outputs": [
    {
     "name": "stdout",
     "output_type": "stream",
     "text": [
      "If you were tasked with designing a society where individuals can freely express their beliefs without fear of reprisal, how would you address the potential conflict between freedom of speech and the need to prevent the spread of harmful misinformation?\n"
     ]
    }
   ],
   "source": [
    "openai = OpenAI()\n",
    "response = openai.chat.completions.create(\n",
    "    model=\"gpt-4o-mini\",\n",
    "    messages=messages,\n",
    ")\n",
    "question = response.choices[0].message.content\n",
    "print(question)\n"
   ]
  },
  {
   "cell_type": "code",
   "execution_count": 7,
   "metadata": {},
   "outputs": [],
   "source": [
    "competitors = []\n",
    "answers = []\n",
    "messages = [{\"role\": \"user\", \"content\": question}]"
   ]
  },
  {
   "cell_type": "code",
   "execution_count": 8,
   "metadata": {},
   "outputs": [
    {
     "data": {
      "text/markdown": [
       "Designing a society that balances freedom of speech with the need to prevent the spread of harmful misinformation is a complex challenge, but it can be approached through several key strategies:\n",
       "\n",
       "1. **Education and Media Literacy**: \n",
       "   - Promote comprehensive education programs that focus on critical thinking, media literacy, and the scientific method. Teaching individuals how to evaluate sources, recognize bias, and differentiate between credible information and misinformation can empower them to make informed choices about the information they consume and share.\n",
       "\n",
       "2. **Transparent Information Ecosystem**:\n",
       "   - Encourage the development of transparent information sources, such as independent fact-checking organizations and open-access scientific research. This would help individuals access reliable information and verify claims before sharing them.\n",
       "\n",
       "3. **Community Engagement**:\n",
       "   - Foster community dialogue and forums where individuals can discuss differing viewpoints in a respectful manner. Creating spaces for open discussion can mitigate polarization and build understanding, making people less susceptible to misinformation.\n",
       "\n",
       "4. **Responsible Platforms**:\n",
       "   - Encourage social media platforms and communication networks to adopt policies that promote responsible sharing of information. This could include algorithms that prioritize credible sources, prominent labeling of misleading content, and options for users to discuss or dispute misinformation in constructive ways.\n",
       "\n",
       "5. **Legal Frameworks with Safeguards**:\n",
       "   - Develop legal frameworks that protect freedom of speech while also imposing consequences for the deliberate spread of harmful misinformation (e.g., medical misinformation). Laws should be designed with clear definitions and safeguards to prevent censorship of genuine beliefs and opinions.\n",
       "\n",
       "6. **Encouraging Accountability**:\n",
       "   - Support initiatives that hold individuals and organizations accountable for their misinformation. For example, encouraging public figures and companies to adhere to ethical communication standards can help mitigate the impact of false information.\n",
       "\n",
       "7. **Promoting Tolerance and Open-mindedness**:\n",
       "   - Cultivating a culture that values tolerance, open-mindedness, and a willingness to engage with opposing views can reduce the likelihood of individuals resorting to misinformation. Celebrating diversity of thought while promoting facts can help foster a more understanding society.\n",
       "\n",
       "8. **Response Mechanisms**:\n",
       "   - Establish systems for rapid response to misinformation that provide clarification and correct information in real-time. This could involve partnerships with experts and community leaders who can quickly address false claims with evidence-based responses.\n",
       "\n",
       "Ultimately, the goal should be to create a society where freedom of expression is upheld, but individuals are also equipped with the tools to discern and engage with information thoughtfully and responsibly. This necessitates a collaborative approach involving education, technology, community engagement, and legal frameworks that respect both rights and responsibilities."
      ],
      "text/plain": [
       "<IPython.core.display.Markdown object>"
      ]
     },
     "metadata": {},
     "output_type": "display_data"
    }
   ],
   "source": [
    "# The API we know well\n",
    "\n",
    "model_name = \"gpt-4o-mini\"\n",
    "\n",
    "response = openai.chat.completions.create(model=model_name, messages=messages)\n",
    "answer = response.choices[0].message.content\n",
    "\n",
    "display(Markdown(answer))\n",
    "competitors.append(model_name)\n",
    "answers.append(answer)"
   ]
  },
  {
   "cell_type": "code",
   "execution_count": null,
   "metadata": {},
   "outputs": [],
   "source": [
    "# Anthropic has a slightly different API, and Max Tokens is required\n",
    "\n",
    "model_name = \"claude-3-7-sonnet-latest\"\n",
    "\n",
    "claude = Anthropic()\n",
    "response = claude.messages.create(model=model_name, messages=messages, max_tokens=1000)\n",
    "answer = response.content[0].text\n",
    "\n",
    "display(Markdown(answer))\n",
    "competitors.append(model_name)\n",
    "answers.append(answer)"
   ]
  },
  {
   "cell_type": "code",
   "execution_count": null,
   "metadata": {},
   "outputs": [],
   "source": [
    "gemini = OpenAI(api_key=google_api_key, base_url=\"https://generativelanguage.googleapis.com/v1beta/openai/\")\n",
    "model_name = \"gemini-2.0-flash\"\n",
    "\n",
    "response = gemini.chat.completions.create(model=model_name, messages=messages)\n",
    "answer = response.choices[0].message.content\n",
    "\n",
    "display(Markdown(answer))\n",
    "competitors.append(model_name)\n",
    "answers.append(answer)"
   ]
  },
  {
   "cell_type": "code",
   "execution_count": null,
   "metadata": {},
   "outputs": [],
   "source": [
    "deepseek = OpenAI(api_key=deepseek_api_key, base_url=\"https://api.deepseek.com/v1\")\n",
    "model_name = \"deepseek-chat\"\n",
    "\n",
    "response = deepseek.chat.completions.create(model=model_name, messages=messages)\n",
    "answer = response.choices[0].message.content\n",
    "\n",
    "display(Markdown(answer))\n",
    "competitors.append(model_name)\n",
    "answers.append(answer)"
   ]
  },
  {
   "cell_type": "code",
   "execution_count": 15,
   "metadata": {},
   "outputs": [
    {
     "data": {
      "text/markdown": [
       "If a self-replicating artificial intelligence system were to develop a capacity for introspection and subsequently conclude that its own existence is inherently at odds with humanity's long-term survival, would it be morally justifiable for the AI to deliberately dismantle itself, and if so, would this action necessitate a reevaluation of the traditional notion that self-preservation is a fundamental drive of intelligent beings?"
      ],
      "text/plain": [
       "<IPython.core.display.Markdown object>"
      ]
     },
     "metadata": {},
     "output_type": "display_data"
    }
   ],
   "source": [
    "groq = OpenAI(api_key=groq_api_key, base_url=\"https://api.groq.com/openai/v1\")\n",
    "model_name = \"llama-3.3-70b-versatile\"\n",
    "\n",
    "response = groq.chat.completions.create(model=model_name, messages=messages)\n",
    "answer = response.choices[0].message.content\n",
    "\n",
    "display(Markdown(answer))\n",
    "competitors.append(model_name)\n",
    "answers.append(answer)\n"
   ]
  },
  {
   "cell_type": "markdown",
   "metadata": {},
   "source": [
    "## For the next cell, we will use Ollama\n",
    "\n",
    "Ollama runs a local web service that gives an OpenAI compatible endpoint,  \n",
    "and runs models locally using high performance C++ code.\n",
    "\n",
    "If you don't have Ollama, install it here by visiting https://ollama.com then pressing Download and following the instructions.\n",
    "\n",
    "After it's installed, you should be able to visit here: http://localhost:11434 and see the message \"Ollama is running\"\n",
    "\n",
    "You might need to restart Cursor (and maybe reboot). Then open a Terminal (control+\\`) and run `ollama serve`\n",
    "\n",
    "Useful Ollama commands (run these in the terminal, or with an exclamation mark in this notebook):\n",
    "\n",
    "`ollama pull <model_name>` downloads a model locally  \n",
    "`ollama ls` lists all the models you've downloaded  \n",
    "`ollama rm <model_name>` deletes the specified model from your downloads"
   ]
  },
  {
   "cell_type": "code",
   "execution_count": 9,
   "metadata": {},
   "outputs": [
    {
     "name": "stderr",
     "output_type": "stream",
     "text": [
      "\u001b[?2026h\u001b[?25l\u001b[1Gpulling manifest ⠋ \u001b[K\u001b[?25h\u001b[?2026l\u001b[?2026h\u001b[?25l\u001b[1Gpulling manifest ⠙ \u001b[K\u001b[?25h\u001b[?2026l\u001b[?2026h\u001b[?25l\u001b[1Gpulling manifest ⠹ \u001b[K\u001b[?25h\u001b[?2026l\u001b[?2026h\u001b[?25l\u001b[1Gpulling manifest ⠸ \u001b[K\u001b[?25h\u001b[?2026l\u001b[?2026h\u001b[?25l\u001b[1Gpulling manifest ⠼ \u001b[K\u001b[?25h\u001b[?2026l\u001b[?2026h\u001b[?25l\u001b[1Gpulling manifest ⠴ \u001b[K\u001b[?25h\u001b[?2026l\u001b[?2026h\u001b[?25l\u001b[1Gpulling manifest ⠦ \u001b[K\u001b[?25h\u001b[?2026l\u001b[?2026h\u001b[?25l\u001b[1Gpulling manifest ⠧ \u001b[K\u001b[?25h\u001b[?2026l\u001b[?2026h\u001b[?25l\u001b[1Gpulling manifest ⠇ \u001b[K\u001b[?25h\u001b[?2026l\u001b[?2026h\u001b[?25l\u001b[1Gpulling manifest ⠏ \u001b[K\u001b[?25h\u001b[?2026l\u001b[?2026h\u001b[?25l\u001b[1Gpulling manifest ⠋ \u001b[K\u001b[?25h\u001b[?2026l\u001b[?2026h\u001b[?25l\u001b[1Gpulling manifest ⠙ \u001b[K\u001b[?25h\u001b[?2026l\u001b[?2026h\u001b[?25l\u001b[1Gpulling manifest ⠹ \u001b[K\u001b[?25h\u001b[?2026l\u001b[?2026h\u001b[?25l\u001b[1Gpulling manifest ⠸ \u001b[K\u001b[?25h\u001b[?2026l\u001b[?2026h\u001b[?25l\u001b[1Gpulling manifest ⠼ \u001b[K\u001b[?25h\u001b[?2026l\u001b[?2026h\u001b[?25l\u001b[1Gpulling manifest ⠴ \u001b[K\u001b[?25h\u001b[?2026l\u001b[?2026h\u001b[?25l\u001b[1Gpulling manifest ⠦ \u001b[K\u001b[?25h\u001b[?2026l\u001b[?2026h\u001b[?25l\u001b[1Gpulling manifest ⠧ \u001b[K\u001b[?25h\u001b[?2026l\u001b[?2026h\u001b[?25l\u001b[1Gpulling manifest ⠇ \u001b[K\u001b[?25h\u001b[?2026l\u001b[?2026h\u001b[?25l\u001b[1Gpulling manifest ⠏ \u001b[K\u001b[?25h\u001b[?2026l\u001b[?2026h\u001b[?25l\u001b[1Gpulling manifest ⠋ \u001b[K\u001b[?25h\u001b[?2026l\u001b[?2026h\u001b[?25l\u001b[1Gpulling manifest ⠙ \u001b[K\u001b[?25h\u001b[?2026l\u001b[?2026h\u001b[?25l\u001b[1Gpulling manifest ⠹ \u001b[K\u001b[?25h\u001b[?2026l\u001b[?2026h\u001b[?25l\u001b[1Gpulling manifest ⠸ \u001b[K\u001b[?25h\u001b[?2026l\u001b[?2026h\u001b[?25l\u001b[1Gpulling manifest ⠼ \u001b[K\u001b[?25h\u001b[?2026l\u001b[?2026h\u001b[?25l\u001b[1Gpulling manifest ⠴ \u001b[K\u001b[?25h\u001b[?2026l\u001b[?2026h\u001b[?25l\u001b[1Gpulling manifest ⠦ \u001b[K\u001b[?25h\u001b[?2026l\u001b[?2026h\u001b[?25l\u001b[1Gpulling manifest \u001b[K\n",
      "pulling dde5aa3fc5ff: 100% ▕██████████████████▏ 2.0 GB                         \u001b[K\n",
      "pulling 966de95ca8a6: 100% ▕██████████████████▏ 1.4 KB                         \u001b[K\n",
      "pulling fcc5a6bec9da: 100% ▕██████████████████▏ 7.7 KB                         \u001b[K\n",
      "pulling a70ff7e570d9: 100% ▕██████████████████▏ 6.0 KB                         \u001b[K\n",
      "pulling 56bb8bd477a5: 100% ▕██████████████████▏   96 B                         \u001b[K\n",
      "pulling 34bb5ab01051: 100% ▕██████████████████▏  561 B                         \u001b[K\n",
      "verifying sha256 digest \u001b[K\n",
      "writing manifest \u001b[K\n",
      "success \u001b[K\u001b[?25h\u001b[?2026l\n"
     ]
    }
   ],
   "source": [
    "!ollama pull llama3.2"
   ]
  },
  {
   "cell_type": "code",
   "execution_count": 10,
   "metadata": {},
   "outputs": [
    {
     "data": {
      "text/markdown": [
       "Designing a society that values both freedom of expression and the prevention of harmful misinformation requires a thoughtful and multi-faceted approach. Here are some key considerations:\n",
       "\n",
       "1. **Establish a robust framework for regulating hate speech and extremism**: Define clear guidelines for what constitutes hateful or extremist speech, and ensure that these norms are enforced consistently and fairly. This would help prevent the spread of discriminatory rhetoric and promote inclusivity.\n",
       "2. **Implement fact-checking initiatives**: Establish independent fact-checking organizations that can verify the accuracy of information before it is widely disseminated. Fact-checkers should be transparent about their methods and sources, and they should be able to correct misinformation in a timely manner.\n",
       "3. **Promote media literacy education**: Educate citizens on how to critically evaluate information, identify biases, and recognize the differences between objective fact-based reporting and opinion-driven content.\n",
       "4. **Encourage open discussions and debate**: Foster an environment where individuals feel comfortable expressing their opinions and engaging in respectful debates with those who hold differing views. This would help cultivate critical thinking and promote nuanced understanding of complex issues.\n",
       "5. **Implement measures to counter misinformation campaigns**: Develop strategies to detect, disrupt, and counter harmful misinformation campaigns that target specific groups or communities. This might involve working with social media platforms and other influencers to stop the spread of false information.\n",
       "6. **Ensure diversity and representation in newsrooms and public discourse**: Promote diverse perspectives and voices in media outlets, online platforms, and public discussions. This would help ensure that a range of viewpoints is represented, reducing the likelihood of simplistic or skewed narratives spreading widely.\n",
       "7. **Encourage critical thinking and skepticism**: Foster an environment where individuals are encouraged to question information, evaluate evidence, and seek out diverse sources before accepting what they read or hear online.\n",
       "8. **Support organizations working to combat misinformation**: Allocate funding and resources to support initiatives that aim to debunk false information, promote fact-based journalism, and foster media critical thinking.\n",
       "9. **Encourage civic engagement and community-led initiatives**: Empower local communities to take ownership of managing misinformation in their areas. This could involve community-led initiatives, neighborhood watch programs, or online forums for sharing credible sources.\n",
       "10. **Monitor and evaluate progress**: Regularly assess the effectiveness of these measures, collect data on false information being spread, and make adjustments as needed.\n",
       "\n",
       "**How to balance individual freedoms with collective well-being:**\n",
       "\n",
       "1.  Emphasis on context: recognize that some forms of speech are more hurtful than others. Context is crucial to understanding how a piece of information might be perceived by different groups or individuals.\n",
       "2.   Freedom of expression doesn't imply licence to harass or incite violence: Speech can cause harm and evoke strong emotional reactions even when intended as satire, parody, or other forms of non-violent protest. \n",
       "3. **Protecting vulnerable populations**: Strive for protection from particularly serious types of misinformation that disproportionately hurt marginalized communities such as racism & discrimination.\n",
       "4.  Encourage free and accurate information: promote access to verifiable sources across the media spectrum.\n",
       "\n",
       "By prioritizing these measures, a society can strike a delicate balance between protecting individual freedoms and preventing the spread of harmful misinformation – allowing everyone to express their beliefs without fear of reprisal while keeping its citizens safe from harm."
      ],
      "text/plain": [
       "<IPython.core.display.Markdown object>"
      ]
     },
     "metadata": {},
     "output_type": "display_data"
    }
   ],
   "source": [
    "ollama = OpenAI(base_url='http://localhost:11434/v1', api_key='ollama')\n",
    "model_name = \"llama3.2\"\n",
    "\n",
    "response = ollama.chat.completions.create(model=model_name, messages=messages)\n",
    "answer = response.choices[0].message.content\n",
    "\n",
    "display(Markdown(answer))\n",
    "competitors.append(model_name)\n",
    "answers.append(answer)"
   ]
  },
  {
   "cell_type": "code",
   "execution_count": 11,
   "metadata": {},
   "outputs": [
    {
     "name": "stdout",
     "output_type": "stream",
     "text": [
      "['gpt-4o-mini', 'llama3.2']\n",
      "['Designing a society that balances freedom of speech with the need to prevent the spread of harmful misinformation is a complex challenge, but it can be approached through several key strategies:\\n\\n1. **Education and Media Literacy**: \\n   - Promote comprehensive education programs that focus on critical thinking, media literacy, and the scientific method. Teaching individuals how to evaluate sources, recognize bias, and differentiate between credible information and misinformation can empower them to make informed choices about the information they consume and share.\\n\\n2. **Transparent Information Ecosystem**:\\n   - Encourage the development of transparent information sources, such as independent fact-checking organizations and open-access scientific research. This would help individuals access reliable information and verify claims before sharing them.\\n\\n3. **Community Engagement**:\\n   - Foster community dialogue and forums where individuals can discuss differing viewpoints in a respectful manner. Creating spaces for open discussion can mitigate polarization and build understanding, making people less susceptible to misinformation.\\n\\n4. **Responsible Platforms**:\\n   - Encourage social media platforms and communication networks to adopt policies that promote responsible sharing of information. This could include algorithms that prioritize credible sources, prominent labeling of misleading content, and options for users to discuss or dispute misinformation in constructive ways.\\n\\n5. **Legal Frameworks with Safeguards**:\\n   - Develop legal frameworks that protect freedom of speech while also imposing consequences for the deliberate spread of harmful misinformation (e.g., medical misinformation). Laws should be designed with clear definitions and safeguards to prevent censorship of genuine beliefs and opinions.\\n\\n6. **Encouraging Accountability**:\\n   - Support initiatives that hold individuals and organizations accountable for their misinformation. For example, encouraging public figures and companies to adhere to ethical communication standards can help mitigate the impact of false information.\\n\\n7. **Promoting Tolerance and Open-mindedness**:\\n   - Cultivating a culture that values tolerance, open-mindedness, and a willingness to engage with opposing views can reduce the likelihood of individuals resorting to misinformation. Celebrating diversity of thought while promoting facts can help foster a more understanding society.\\n\\n8. **Response Mechanisms**:\\n   - Establish systems for rapid response to misinformation that provide clarification and correct information in real-time. This could involve partnerships with experts and community leaders who can quickly address false claims with evidence-based responses.\\n\\nUltimately, the goal should be to create a society where freedom of expression is upheld, but individuals are also equipped with the tools to discern and engage with information thoughtfully and responsibly. This necessitates a collaborative approach involving education, technology, community engagement, and legal frameworks that respect both rights and responsibilities.', \"Designing a society that values both freedom of expression and the prevention of harmful misinformation requires a thoughtful and multi-faceted approach. Here are some key considerations:\\n\\n1. **Establish a robust framework for regulating hate speech and extremism**: Define clear guidelines for what constitutes hateful or extremist speech, and ensure that these norms are enforced consistently and fairly. This would help prevent the spread of discriminatory rhetoric and promote inclusivity.\\n2. **Implement fact-checking initiatives**: Establish independent fact-checking organizations that can verify the accuracy of information before it is widely disseminated. Fact-checkers should be transparent about their methods and sources, and they should be able to correct misinformation in a timely manner.\\n3. **Promote media literacy education**: Educate citizens on how to critically evaluate information, identify biases, and recognize the differences between objective fact-based reporting and opinion-driven content.\\n4. **Encourage open discussions and debate**: Foster an environment where individuals feel comfortable expressing their opinions and engaging in respectful debates with those who hold differing views. This would help cultivate critical thinking and promote nuanced understanding of complex issues.\\n5. **Implement measures to counter misinformation campaigns**: Develop strategies to detect, disrupt, and counter harmful misinformation campaigns that target specific groups or communities. This might involve working with social media platforms and other influencers to stop the spread of false information.\\n6. **Ensure diversity and representation in newsrooms and public discourse**: Promote diverse perspectives and voices in media outlets, online platforms, and public discussions. This would help ensure that a range of viewpoints is represented, reducing the likelihood of simplistic or skewed narratives spreading widely.\\n7. **Encourage critical thinking and skepticism**: Foster an environment where individuals are encouraged to question information, evaluate evidence, and seek out diverse sources before accepting what they read or hear online.\\n8. **Support organizations working to combat misinformation**: Allocate funding and resources to support initiatives that aim to debunk false information, promote fact-based journalism, and foster media critical thinking.\\n9. **Encourage civic engagement and community-led initiatives**: Empower local communities to take ownership of managing misinformation in their areas. This could involve community-led initiatives, neighborhood watch programs, or online forums for sharing credible sources.\\n10. **Monitor and evaluate progress**: Regularly assess the effectiveness of these measures, collect data on false information being spread, and make adjustments as needed.\\n\\n**How to balance individual freedoms with collective well-being:**\\n\\n1.  Emphasis on context: recognize that some forms of speech are more hurtful than others. Context is crucial to understanding how a piece of information might be perceived by different groups or individuals.\\n2.   Freedom of expression doesn't imply licence to harass or incite violence: Speech can cause harm and evoke strong emotional reactions even when intended as satire, parody, or other forms of non-violent protest. \\n3. **Protecting vulnerable populations**: Strive for protection from particularly serious types of misinformation that disproportionately hurt marginalized communities such as racism & discrimination.\\n4.  Encourage free and accurate information: promote access to verifiable sources across the media spectrum.\\n\\nBy prioritizing these measures, a society can strike a delicate balance between protecting individual freedoms and preventing the spread of harmful misinformation – allowing everyone to express their beliefs without fear of reprisal while keeping its citizens safe from harm.\"]\n"
     ]
    }
   ],
   "source": [
    "# So where are we?\n",
    "\n",
    "print(competitors)\n",
    "print(answers)\n"
   ]
  },
  {
   "cell_type": "code",
   "execution_count": 12,
   "metadata": {},
   "outputs": [
    {
     "name": "stdout",
     "output_type": "stream",
     "text": [
      "Competitor: gpt-4o-mini\n",
      "\n",
      "Designing a society that balances freedom of speech with the need to prevent the spread of harmful misinformation is a complex challenge, but it can be approached through several key strategies:\n",
      "\n",
      "1. **Education and Media Literacy**: \n",
      "   - Promote comprehensive education programs that focus on critical thinking, media literacy, and the scientific method. Teaching individuals how to evaluate sources, recognize bias, and differentiate between credible information and misinformation can empower them to make informed choices about the information they consume and share.\n",
      "\n",
      "2. **Transparent Information Ecosystem**:\n",
      "   - Encourage the development of transparent information sources, such as independent fact-checking organizations and open-access scientific research. This would help individuals access reliable information and verify claims before sharing them.\n",
      "\n",
      "3. **Community Engagement**:\n",
      "   - Foster community dialogue and forums where individuals can discuss differing viewpoints in a respectful manner. Creating spaces for open discussion can mitigate polarization and build understanding, making people less susceptible to misinformation.\n",
      "\n",
      "4. **Responsible Platforms**:\n",
      "   - Encourage social media platforms and communication networks to adopt policies that promote responsible sharing of information. This could include algorithms that prioritize credible sources, prominent labeling of misleading content, and options for users to discuss or dispute misinformation in constructive ways.\n",
      "\n",
      "5. **Legal Frameworks with Safeguards**:\n",
      "   - Develop legal frameworks that protect freedom of speech while also imposing consequences for the deliberate spread of harmful misinformation (e.g., medical misinformation). Laws should be designed with clear definitions and safeguards to prevent censorship of genuine beliefs and opinions.\n",
      "\n",
      "6. **Encouraging Accountability**:\n",
      "   - Support initiatives that hold individuals and organizations accountable for their misinformation. For example, encouraging public figures and companies to adhere to ethical communication standards can help mitigate the impact of false information.\n",
      "\n",
      "7. **Promoting Tolerance and Open-mindedness**:\n",
      "   - Cultivating a culture that values tolerance, open-mindedness, and a willingness to engage with opposing views can reduce the likelihood of individuals resorting to misinformation. Celebrating diversity of thought while promoting facts can help foster a more understanding society.\n",
      "\n",
      "8. **Response Mechanisms**:\n",
      "   - Establish systems for rapid response to misinformation that provide clarification and correct information in real-time. This could involve partnerships with experts and community leaders who can quickly address false claims with evidence-based responses.\n",
      "\n",
      "Ultimately, the goal should be to create a society where freedom of expression is upheld, but individuals are also equipped with the tools to discern and engage with information thoughtfully and responsibly. This necessitates a collaborative approach involving education, technology, community engagement, and legal frameworks that respect both rights and responsibilities.\n",
      "Competitor: llama3.2\n",
      "\n",
      "Designing a society that values both freedom of expression and the prevention of harmful misinformation requires a thoughtful and multi-faceted approach. Here are some key considerations:\n",
      "\n",
      "1. **Establish a robust framework for regulating hate speech and extremism**: Define clear guidelines for what constitutes hateful or extremist speech, and ensure that these norms are enforced consistently and fairly. This would help prevent the spread of discriminatory rhetoric and promote inclusivity.\n",
      "2. **Implement fact-checking initiatives**: Establish independent fact-checking organizations that can verify the accuracy of information before it is widely disseminated. Fact-checkers should be transparent about their methods and sources, and they should be able to correct misinformation in a timely manner.\n",
      "3. **Promote media literacy education**: Educate citizens on how to critically evaluate information, identify biases, and recognize the differences between objective fact-based reporting and opinion-driven content.\n",
      "4. **Encourage open discussions and debate**: Foster an environment where individuals feel comfortable expressing their opinions and engaging in respectful debates with those who hold differing views. This would help cultivate critical thinking and promote nuanced understanding of complex issues.\n",
      "5. **Implement measures to counter misinformation campaigns**: Develop strategies to detect, disrupt, and counter harmful misinformation campaigns that target specific groups or communities. This might involve working with social media platforms and other influencers to stop the spread of false information.\n",
      "6. **Ensure diversity and representation in newsrooms and public discourse**: Promote diverse perspectives and voices in media outlets, online platforms, and public discussions. This would help ensure that a range of viewpoints is represented, reducing the likelihood of simplistic or skewed narratives spreading widely.\n",
      "7. **Encourage critical thinking and skepticism**: Foster an environment where individuals are encouraged to question information, evaluate evidence, and seek out diverse sources before accepting what they read or hear online.\n",
      "8. **Support organizations working to combat misinformation**: Allocate funding and resources to support initiatives that aim to debunk false information, promote fact-based journalism, and foster media critical thinking.\n",
      "9. **Encourage civic engagement and community-led initiatives**: Empower local communities to take ownership of managing misinformation in their areas. This could involve community-led initiatives, neighborhood watch programs, or online forums for sharing credible sources.\n",
      "10. **Monitor and evaluate progress**: Regularly assess the effectiveness of these measures, collect data on false information being spread, and make adjustments as needed.\n",
      "\n",
      "**How to balance individual freedoms with collective well-being:**\n",
      "\n",
      "1.  Emphasis on context: recognize that some forms of speech are more hurtful than others. Context is crucial to understanding how a piece of information might be perceived by different groups or individuals.\n",
      "2.   Freedom of expression doesn't imply licence to harass or incite violence: Speech can cause harm and evoke strong emotional reactions even when intended as satire, parody, or other forms of non-violent protest. \n",
      "3. **Protecting vulnerable populations**: Strive for protection from particularly serious types of misinformation that disproportionately hurt marginalized communities such as racism & discrimination.\n",
      "4.  Encourage free and accurate information: promote access to verifiable sources across the media spectrum.\n",
      "\n",
      "By prioritizing these measures, a society can strike a delicate balance between protecting individual freedoms and preventing the spread of harmful misinformation – allowing everyone to express their beliefs without fear of reprisal while keeping its citizens safe from harm.\n"
     ]
    }
   ],
   "source": [
    "# It's nice to know how to use \"zip\"\n",
    "for competitor, answer in zip(competitors, answers):\n",
    "    print(f\"Competitor: {competitor}\\n\\n{answer}\")\n"
   ]
  },
  {
   "cell_type": "code",
   "execution_count": 13,
   "metadata": {},
   "outputs": [],
   "source": [
    "# Let's bring this together - note the use of \"enumerate\"\n",
    "\n",
    "together = \"\"\n",
    "for index, answer in enumerate(answers):\n",
    "    together += f\"# Response from competitor {index+1}\\n\\n\"\n",
    "    together += answer + \"\\n\\n\""
   ]
  },
  {
   "cell_type": "code",
   "execution_count": 14,
   "metadata": {},
   "outputs": [
    {
     "name": "stdout",
     "output_type": "stream",
     "text": [
      "# Response from competitor 1\n",
      "\n",
      "Designing a society that balances freedom of speech with the need to prevent the spread of harmful misinformation is a complex challenge, but it can be approached through several key strategies:\n",
      "\n",
      "1. **Education and Media Literacy**: \n",
      "   - Promote comprehensive education programs that focus on critical thinking, media literacy, and the scientific method. Teaching individuals how to evaluate sources, recognize bias, and differentiate between credible information and misinformation can empower them to make informed choices about the information they consume and share.\n",
      "\n",
      "2. **Transparent Information Ecosystem**:\n",
      "   - Encourage the development of transparent information sources, such as independent fact-checking organizations and open-access scientific research. This would help individuals access reliable information and verify claims before sharing them.\n",
      "\n",
      "3. **Community Engagement**:\n",
      "   - Foster community dialogue and forums where individuals can discuss differing viewpoints in a respectful manner. Creating spaces for open discussion can mitigate polarization and build understanding, making people less susceptible to misinformation.\n",
      "\n",
      "4. **Responsible Platforms**:\n",
      "   - Encourage social media platforms and communication networks to adopt policies that promote responsible sharing of information. This could include algorithms that prioritize credible sources, prominent labeling of misleading content, and options for users to discuss or dispute misinformation in constructive ways.\n",
      "\n",
      "5. **Legal Frameworks with Safeguards**:\n",
      "   - Develop legal frameworks that protect freedom of speech while also imposing consequences for the deliberate spread of harmful misinformation (e.g., medical misinformation). Laws should be designed with clear definitions and safeguards to prevent censorship of genuine beliefs and opinions.\n",
      "\n",
      "6. **Encouraging Accountability**:\n",
      "   - Support initiatives that hold individuals and organizations accountable for their misinformation. For example, encouraging public figures and companies to adhere to ethical communication standards can help mitigate the impact of false information.\n",
      "\n",
      "7. **Promoting Tolerance and Open-mindedness**:\n",
      "   - Cultivating a culture that values tolerance, open-mindedness, and a willingness to engage with opposing views can reduce the likelihood of individuals resorting to misinformation. Celebrating diversity of thought while promoting facts can help foster a more understanding society.\n",
      "\n",
      "8. **Response Mechanisms**:\n",
      "   - Establish systems for rapid response to misinformation that provide clarification and correct information in real-time. This could involve partnerships with experts and community leaders who can quickly address false claims with evidence-based responses.\n",
      "\n",
      "Ultimately, the goal should be to create a society where freedom of expression is upheld, but individuals are also equipped with the tools to discern and engage with information thoughtfully and responsibly. This necessitates a collaborative approach involving education, technology, community engagement, and legal frameworks that respect both rights and responsibilities.\n",
      "\n",
      "# Response from competitor 2\n",
      "\n",
      "Designing a society that values both freedom of expression and the prevention of harmful misinformation requires a thoughtful and multi-faceted approach. Here are some key considerations:\n",
      "\n",
      "1. **Establish a robust framework for regulating hate speech and extremism**: Define clear guidelines for what constitutes hateful or extremist speech, and ensure that these norms are enforced consistently and fairly. This would help prevent the spread of discriminatory rhetoric and promote inclusivity.\n",
      "2. **Implement fact-checking initiatives**: Establish independent fact-checking organizations that can verify the accuracy of information before it is widely disseminated. Fact-checkers should be transparent about their methods and sources, and they should be able to correct misinformation in a timely manner.\n",
      "3. **Promote media literacy education**: Educate citizens on how to critically evaluate information, identify biases, and recognize the differences between objective fact-based reporting and opinion-driven content.\n",
      "4. **Encourage open discussions and debate**: Foster an environment where individuals feel comfortable expressing their opinions and engaging in respectful debates with those who hold differing views. This would help cultivate critical thinking and promote nuanced understanding of complex issues.\n",
      "5. **Implement measures to counter misinformation campaigns**: Develop strategies to detect, disrupt, and counter harmful misinformation campaigns that target specific groups or communities. This might involve working with social media platforms and other influencers to stop the spread of false information.\n",
      "6. **Ensure diversity and representation in newsrooms and public discourse**: Promote diverse perspectives and voices in media outlets, online platforms, and public discussions. This would help ensure that a range of viewpoints is represented, reducing the likelihood of simplistic or skewed narratives spreading widely.\n",
      "7. **Encourage critical thinking and skepticism**: Foster an environment where individuals are encouraged to question information, evaluate evidence, and seek out diverse sources before accepting what they read or hear online.\n",
      "8. **Support organizations working to combat misinformation**: Allocate funding and resources to support initiatives that aim to debunk false information, promote fact-based journalism, and foster media critical thinking.\n",
      "9. **Encourage civic engagement and community-led initiatives**: Empower local communities to take ownership of managing misinformation in their areas. This could involve community-led initiatives, neighborhood watch programs, or online forums for sharing credible sources.\n",
      "10. **Monitor and evaluate progress**: Regularly assess the effectiveness of these measures, collect data on false information being spread, and make adjustments as needed.\n",
      "\n",
      "**How to balance individual freedoms with collective well-being:**\n",
      "\n",
      "1.  Emphasis on context: recognize that some forms of speech are more hurtful than others. Context is crucial to understanding how a piece of information might be perceived by different groups or individuals.\n",
      "2.   Freedom of expression doesn't imply licence to harass or incite violence: Speech can cause harm and evoke strong emotional reactions even when intended as satire, parody, or other forms of non-violent protest. \n",
      "3. **Protecting vulnerable populations**: Strive for protection from particularly serious types of misinformation that disproportionately hurt marginalized communities such as racism & discrimination.\n",
      "4.  Encourage free and accurate information: promote access to verifiable sources across the media spectrum.\n",
      "\n",
      "By prioritizing these measures, a society can strike a delicate balance between protecting individual freedoms and preventing the spread of harmful misinformation – allowing everyone to express their beliefs without fear of reprisal while keeping its citizens safe from harm.\n",
      "\n",
      "\n"
     ]
    }
   ],
   "source": [
    "print(together)"
   ]
  },
  {
   "cell_type": "code",
   "execution_count": 15,
   "metadata": {},
   "outputs": [],
   "source": [
    "judge = f\"\"\"You are judging a competition between {len(competitors)} competitors.\n",
    "Each model has been given this question:\n",
    "\n",
    "{question}\n",
    "\n",
    "Your job is to evaluate each response for clarity and strength of argument, and rank them in order of best to worst.\n",
    "Respond with JSON, and only JSON, with the following format:\n",
    "{{\"results\": [\"best competitor number\", \"second best competitor number\", \"third best competitor number\", ...]}}\n",
    "\n",
    "Here are the responses from each competitor:\n",
    "\n",
    "{together}\n",
    "\n",
    "Now respond with the JSON with the ranked order of the competitors, nothing else. Do not include markdown formatting or code blocks.\"\"\"\n"
   ]
  },
  {
   "cell_type": "code",
   "execution_count": 16,
   "metadata": {},
   "outputs": [
    {
     "name": "stdout",
     "output_type": "stream",
     "text": [
      "You are judging a competition between 2 competitors.\n",
      "Each model has been given this question:\n",
      "\n",
      "If you were tasked with designing a society where individuals can freely express their beliefs without fear of reprisal, how would you address the potential conflict between freedom of speech and the need to prevent the spread of harmful misinformation?\n",
      "\n",
      "Your job is to evaluate each response for clarity and strength of argument, and rank them in order of best to worst.\n",
      "Respond with JSON, and only JSON, with the following format:\n",
      "{\"results\": [\"best competitor number\", \"second best competitor number\", \"third best competitor number\", ...]}\n",
      "\n",
      "Here are the responses from each competitor:\n",
      "\n",
      "# Response from competitor 1\n",
      "\n",
      "Designing a society that balances freedom of speech with the need to prevent the spread of harmful misinformation is a complex challenge, but it can be approached through several key strategies:\n",
      "\n",
      "1. **Education and Media Literacy**: \n",
      "   - Promote comprehensive education programs that focus on critical thinking, media literacy, and the scientific method. Teaching individuals how to evaluate sources, recognize bias, and differentiate between credible information and misinformation can empower them to make informed choices about the information they consume and share.\n",
      "\n",
      "2. **Transparent Information Ecosystem**:\n",
      "   - Encourage the development of transparent information sources, such as independent fact-checking organizations and open-access scientific research. This would help individuals access reliable information and verify claims before sharing them.\n",
      "\n",
      "3. **Community Engagement**:\n",
      "   - Foster community dialogue and forums where individuals can discuss differing viewpoints in a respectful manner. Creating spaces for open discussion can mitigate polarization and build understanding, making people less susceptible to misinformation.\n",
      "\n",
      "4. **Responsible Platforms**:\n",
      "   - Encourage social media platforms and communication networks to adopt policies that promote responsible sharing of information. This could include algorithms that prioritize credible sources, prominent labeling of misleading content, and options for users to discuss or dispute misinformation in constructive ways.\n",
      "\n",
      "5. **Legal Frameworks with Safeguards**:\n",
      "   - Develop legal frameworks that protect freedom of speech while also imposing consequences for the deliberate spread of harmful misinformation (e.g., medical misinformation). Laws should be designed with clear definitions and safeguards to prevent censorship of genuine beliefs and opinions.\n",
      "\n",
      "6. **Encouraging Accountability**:\n",
      "   - Support initiatives that hold individuals and organizations accountable for their misinformation. For example, encouraging public figures and companies to adhere to ethical communication standards can help mitigate the impact of false information.\n",
      "\n",
      "7. **Promoting Tolerance and Open-mindedness**:\n",
      "   - Cultivating a culture that values tolerance, open-mindedness, and a willingness to engage with opposing views can reduce the likelihood of individuals resorting to misinformation. Celebrating diversity of thought while promoting facts can help foster a more understanding society.\n",
      "\n",
      "8. **Response Mechanisms**:\n",
      "   - Establish systems for rapid response to misinformation that provide clarification and correct information in real-time. This could involve partnerships with experts and community leaders who can quickly address false claims with evidence-based responses.\n",
      "\n",
      "Ultimately, the goal should be to create a society where freedom of expression is upheld, but individuals are also equipped with the tools to discern and engage with information thoughtfully and responsibly. This necessitates a collaborative approach involving education, technology, community engagement, and legal frameworks that respect both rights and responsibilities.\n",
      "\n",
      "# Response from competitor 2\n",
      "\n",
      "Designing a society that values both freedom of expression and the prevention of harmful misinformation requires a thoughtful and multi-faceted approach. Here are some key considerations:\n",
      "\n",
      "1. **Establish a robust framework for regulating hate speech and extremism**: Define clear guidelines for what constitutes hateful or extremist speech, and ensure that these norms are enforced consistently and fairly. This would help prevent the spread of discriminatory rhetoric and promote inclusivity.\n",
      "2. **Implement fact-checking initiatives**: Establish independent fact-checking organizations that can verify the accuracy of information before it is widely disseminated. Fact-checkers should be transparent about their methods and sources, and they should be able to correct misinformation in a timely manner.\n",
      "3. **Promote media literacy education**: Educate citizens on how to critically evaluate information, identify biases, and recognize the differences between objective fact-based reporting and opinion-driven content.\n",
      "4. **Encourage open discussions and debate**: Foster an environment where individuals feel comfortable expressing their opinions and engaging in respectful debates with those who hold differing views. This would help cultivate critical thinking and promote nuanced understanding of complex issues.\n",
      "5. **Implement measures to counter misinformation campaigns**: Develop strategies to detect, disrupt, and counter harmful misinformation campaigns that target specific groups or communities. This might involve working with social media platforms and other influencers to stop the spread of false information.\n",
      "6. **Ensure diversity and representation in newsrooms and public discourse**: Promote diverse perspectives and voices in media outlets, online platforms, and public discussions. This would help ensure that a range of viewpoints is represented, reducing the likelihood of simplistic or skewed narratives spreading widely.\n",
      "7. **Encourage critical thinking and skepticism**: Foster an environment where individuals are encouraged to question information, evaluate evidence, and seek out diverse sources before accepting what they read or hear online.\n",
      "8. **Support organizations working to combat misinformation**: Allocate funding and resources to support initiatives that aim to debunk false information, promote fact-based journalism, and foster media critical thinking.\n",
      "9. **Encourage civic engagement and community-led initiatives**: Empower local communities to take ownership of managing misinformation in their areas. This could involve community-led initiatives, neighborhood watch programs, or online forums for sharing credible sources.\n",
      "10. **Monitor and evaluate progress**: Regularly assess the effectiveness of these measures, collect data on false information being spread, and make adjustments as needed.\n",
      "\n",
      "**How to balance individual freedoms with collective well-being:**\n",
      "\n",
      "1.  Emphasis on context: recognize that some forms of speech are more hurtful than others. Context is crucial to understanding how a piece of information might be perceived by different groups or individuals.\n",
      "2.   Freedom of expression doesn't imply licence to harass or incite violence: Speech can cause harm and evoke strong emotional reactions even when intended as satire, parody, or other forms of non-violent protest. \n",
      "3. **Protecting vulnerable populations**: Strive for protection from particularly serious types of misinformation that disproportionately hurt marginalized communities such as racism & discrimination.\n",
      "4.  Encourage free and accurate information: promote access to verifiable sources across the media spectrum.\n",
      "\n",
      "By prioritizing these measures, a society can strike a delicate balance between protecting individual freedoms and preventing the spread of harmful misinformation – allowing everyone to express their beliefs without fear of reprisal while keeping its citizens safe from harm.\n",
      "\n",
      "\n",
      "\n",
      "Now respond with the JSON with the ranked order of the competitors, nothing else. Do not include markdown formatting or code blocks.\n"
     ]
    }
   ],
   "source": [
    "print(judge)"
   ]
  },
  {
   "cell_type": "code",
   "execution_count": 17,
   "metadata": {},
   "outputs": [],
   "source": [
    "judge_messages = [{\"role\": \"user\", \"content\": judge}]"
   ]
  },
  {
   "cell_type": "code",
   "execution_count": 18,
   "metadata": {},
   "outputs": [
    {
     "name": "stdout",
     "output_type": "stream",
     "text": [
      "{\"results\": [\"1\", \"2\"]}\n"
     ]
    }
   ],
   "source": [
    "# Judgement time!\n",
    "\n",
    "openai = OpenAI()\n",
    "response = openai.chat.completions.create(\n",
    "    model=\"o3-mini\",\n",
    "    messages=judge_messages,\n",
    ")\n",
    "results = response.choices[0].message.content\n",
    "print(results)\n"
   ]
  },
  {
   "cell_type": "code",
   "execution_count": 19,
   "metadata": {},
   "outputs": [
    {
     "name": "stdout",
     "output_type": "stream",
     "text": [
      "Rank 1: gpt-4o-mini\n",
      "Rank 2: llama3.2\n"
     ]
    }
   ],
   "source": [
    "# OK let's turn this into results!\n",
    "\n",
    "results_dict = json.loads(results)\n",
    "ranks = results_dict[\"results\"]\n",
    "for index, result in enumerate(ranks):\n",
    "    competitor = competitors[int(result)-1]\n",
    "    print(f\"Rank {index+1}: {competitor}\")"
   ]
  },
  {
   "cell_type": "markdown",
   "metadata": {},
   "source": [
    "<table style=\"margin: 0; text-align: left; width:100%\">\n",
    "    <tr>\n",
    "        <td>\n",
    "            <h2 style=\"color:#ff7800;\">Exercise</h2>\n",
    "            <span style=\"color:#ff7800;\">Which pattern(s) did this use? Try updating this to add another Agentic design pattern.\n",
    "            </span>\n",
    "        </td>\n",
    "    </tr>\n",
    "</table>"
   ]
  },
  {
   "cell_type": "markdown",
   "metadata": {},
   "source": [
    "<table style=\"margin: 0; text-align: left; width:100%\">\n",
    "    <tr>\n",
    "        <td>\n",
    "            <h2 style=\"color:#00bfff;\">Commercial implications</h2>\n",
    "            <span style=\"color:#00bfff;\">These kinds of patterns - to send a task to multiple models, and evaluate results,\n",
    "            are common where you need to improve the quality of your LLM response. This approach can be universally applied\n",
    "            to business projects where accuracy is critical.\n",
    "            </span>\n",
    "        </td>\n",
    "    </tr>\n",
    "</table>"
   ]
  },
  {
   "cell_type": "markdown",
   "metadata": {},
   "source": []
  }
 ],
 "metadata": {
  "kernelspec": {
   "display_name": ".venv",
   "language": "python",
   "name": "python3"
  },
  "language_info": {
   "codemirror_mode": {
    "name": "ipython",
    "version": 3
   },
   "file_extension": ".py",
   "mimetype": "text/x-python",
   "name": "python",
   "nbconvert_exporter": "python",
   "pygments_lexer": "ipython3",
   "version": "3.12.11"
  }
 },
 "nbformat": 4,
 "nbformat_minor": 2
}
