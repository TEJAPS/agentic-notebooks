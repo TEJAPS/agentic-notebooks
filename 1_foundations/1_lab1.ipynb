{
 "cells": [
  {
   "cell_type": "markdown",
   "metadata": {},
   "source": [
    "# Agentic AI basics"
   ]
  },
  {
   "cell_type": "code",
   "execution_count": 5,
   "metadata": {},
   "outputs": [],
   "source": [
    "# First let's do an import. If you get an Import Error, double check that your Kernel is correct..\n",
    "\n",
    "from dotenv import load_dotenv"
   ]
  },
  {
   "cell_type": "code",
   "execution_count": 6,
   "metadata": {},
   "outputs": [
    {
     "data": {
      "text/plain": [
       "True"
      ]
     },
     "execution_count": 6,
     "metadata": {},
     "output_type": "execute_result"
    }
   ],
   "source": [
    "# Next it's time to load the API keys into environment variables\n",
    "# If this returns false, make sure env variable is set properly in .env\n",
    "\n",
    "load_dotenv(override=True)"
   ]
  },
  {
   "cell_type": "code",
   "execution_count": 7,
   "metadata": {},
   "outputs": [
    {
     "name": "stdout",
     "output_type": "stream",
     "text": [
      "OpenAI API Key exists and begins sk-proj-\n"
     ]
    }
   ],
   "source": [
    "# Check the key - if you're not using OpenAI, check whichever key you're using! Ollama doesn't need a key.\n",
    "\n",
    "import os\n",
    "openai_api_key = os.getenv('OPENAI_API_KEY')\n",
    "\n",
    "if openai_api_key:\n",
    "    print(f\"OpenAI API Key exists and begins {openai_api_key[:8]}\")\n",
    "else:\n",
    "    print(\"OpenAI API Key not set - please head to the troubleshooting guide in the setup folder\")\n",
    "    \n"
   ]
  },
  {
   "cell_type": "code",
   "execution_count": 8,
   "metadata": {},
   "outputs": [],
   "source": [
    "# And now - the all important import statement\n",
    "# If you get an import error - head over to troubleshooting in the Setup folder\n",
    "# Even for other LLM providers like Gemini, you still use this OpenAI import - see Guide 9 for why\n",
    "\n",
    "from openai import OpenAI"
   ]
  },
  {
   "cell_type": "code",
   "execution_count": 9,
   "metadata": {},
   "outputs": [],
   "source": [
    "# And now we'll create an instance of the OpenAI class\n",
    "# If you're not sure what it means to create an instance of a class - head over to the guides folder (guide 6)!\n",
    "# If you get a NameError - head over to the guides folder (guide 6)to learn about NameErrors - always instantly fixable\n",
    "# If you're not using OpenAI, you just need to slightly modify this - precise instructions are in the AI APIs guide (guide 9)\n",
    "# its basically openai client library for connecting to openai endpoints\n",
    "openai = OpenAI()"
   ]
  },
  {
   "cell_type": "code",
   "execution_count": 10,
   "metadata": {},
   "outputs": [],
   "source": [
    "# Create a list of messages in the familiar OpenAI format\n",
    "\n",
    "messages = [{\"role\": \"user\", \"content\": \"What is 2+2?\"}]"
   ]
  },
  {
   "cell_type": "code",
   "execution_count": 11,
   "metadata": {},
   "outputs": [
    {
     "name": "stdout",
     "output_type": "stream",
     "text": [
      "2 + 2 equals 4.\n"
     ]
    }
   ],
   "source": [
    "# And now call it! Any problems, head to the troubleshooting guide\n",
    "# This uses GPT 4.1 nano, the incredibly cheap model\n",
    "# The APIs guide (guide 9) has exact instructions for using even cheaper or free alternatives to OpenAI\n",
    "# If you get a NameError, head to the guides folder (guide 6) to learn about NameErrors - always instantly fixable\n",
    "\n",
    "response = openai.chat.completions.create(\n",
    "    model=\"gpt-4.1-nano\",\n",
    "    messages=messages\n",
    ")\n",
    "\n",
    "print(response.choices[0].message.content)\n"
   ]
  },
  {
   "cell_type": "code",
   "execution_count": 12,
   "metadata": {},
   "outputs": [],
   "source": [
    "# And now - let's ask for a question:\n",
    "\n",
    "question = \"Please propose a hard, challenging question to assess someone's IQ. Respond only with the question.\"\n",
    "messages = [{\"role\": \"user\", \"content\": question}]\n"
   ]
  },
  {
   "cell_type": "code",
   "execution_count": 13,
   "metadata": {},
   "outputs": [
    {
     "name": "stdout",
     "output_type": "stream",
     "text": [
      "If two trains start from stations 180 miles apart and move toward each other, one traveling at 40 miles per hour and the other at 60 miles per hour, a bird starts flying from the first train toward the second at 90 miles per hour. It immediately turns around upon reaching the second train and flies back to the first, continuing back and forth until the trains collide. How many miles does the bird travel?\n"
     ]
    }
   ],
   "source": [
    "# ask it - this uses GPT 4.1 mini, still cheap but more powerful than nano\n",
    "\n",
    "response = openai.chat.completions.create(\n",
    "    model=\"gpt-4.1-mini\",\n",
    "    messages=messages\n",
    ")\n",
    "\n",
    "question = response.choices[0].message.content\n",
    "\n",
    "print(question)\n"
   ]
  },
  {
   "cell_type": "code",
   "execution_count": 14,
   "metadata": {},
   "outputs": [],
   "source": [
    "# form a new messages list\n",
    "messages = [{\"role\": \"user\", \"content\": question}]\n"
   ]
  },
  {
   "cell_type": "code",
   "execution_count": 15,
   "metadata": {},
   "outputs": [
    {
     "name": "stdout",
     "output_type": "stream",
     "text": [
      "Let's analyze the problem step-by-step:\n",
      "\n",
      "### Given:\n",
      "- Distance between two trains initially: 180 miles\n",
      "- Speed of first train: 40 mph\n",
      "- Speed of second train: 60 mph\n",
      "- Speed of bird: 90 mph\n",
      "\n",
      "### Objective:\n",
      "Find the total distance the bird travels while the two trains move toward each other until they meet.\n",
      "\n",
      "---\n",
      "\n",
      "### Step 1: Calculate the time until the two trains collide\n",
      "\n",
      "The trains are moving toward each other, so their relative speed is the sum of their speeds:\n",
      "\\[\n",
      "40\\, \\text{mph} + 60\\, \\text{mph} = 100\\, \\text{mph}\n",
      "\\]\n",
      "\n",
      "The time \\( t \\) it takes for them to meet:\n",
      "\\[\n",
      "t = \\frac{\\text{distance}}{\\text{relative speed}} = \\frac{180\\, \\text{miles}}{100\\, \\text{mph}} = 1.8\\, \\text{hours}\n",
      "\\]\n",
      "\n",
      "---\n",
      "\n",
      "### Step 2: Calculate the distance the bird travels\n",
      "\n",
      "The bird flies continuously at 90 mph for 1.8 hours, back and forth between the trains.\n",
      "\n",
      "So, the total distance traveled by the bird is:\n",
      "\\[\n",
      "\\text{distance} = \\text{speed} \\times \\text{time} = 90\\, \\text{mph} \\times 1.8\\, \\text{hours} = 162\\, \\text{miles}\n",
      "\\]\n",
      "\n",
      "---\n",
      "\n",
      "### Final answer:\n",
      "\\[\n",
      "\\boxed{162\\, \\text{miles}}\n",
      "\\]\n",
      "\n",
      "The bird travels **162 miles** in total.\n"
     ]
    }
   ],
   "source": [
    "# Ask it again\n",
    "\n",
    "response = openai.chat.completions.create(\n",
    "    model=\"gpt-4.1-mini\",\n",
    "    messages=messages\n",
    ")\n",
    "\n",
    "answer = response.choices[0].message.content\n",
    "print(answer)\n"
   ]
  },
  {
   "cell_type": "code",
   "execution_count": 16,
   "metadata": {},
   "outputs": [
    {
     "data": {
      "text/markdown": [
       "Let's analyze the problem step-by-step:\n",
       "\n",
       "### Given:\n",
       "- Distance between two trains initially: 180 miles\n",
       "- Speed of first train: 40 mph\n",
       "- Speed of second train: 60 mph\n",
       "- Speed of bird: 90 mph\n",
       "\n",
       "### Objective:\n",
       "Find the total distance the bird travels while the two trains move toward each other until they meet.\n",
       "\n",
       "---\n",
       "\n",
       "### Step 1: Calculate the time until the two trains collide\n",
       "\n",
       "The trains are moving toward each other, so their relative speed is the sum of their speeds:\n",
       "\\[\n",
       "40\\, \\text{mph} + 60\\, \\text{mph} = 100\\, \\text{mph}\n",
       "\\]\n",
       "\n",
       "The time \\( t \\) it takes for them to meet:\n",
       "\\[\n",
       "t = \\frac{\\text{distance}}{\\text{relative speed}} = \\frac{180\\, \\text{miles}}{100\\, \\text{mph}} = 1.8\\, \\text{hours}\n",
       "\\]\n",
       "\n",
       "---\n",
       "\n",
       "### Step 2: Calculate the distance the bird travels\n",
       "\n",
       "The bird flies continuously at 90 mph for 1.8 hours, back and forth between the trains.\n",
       "\n",
       "So, the total distance traveled by the bird is:\n",
       "\\[\n",
       "\\text{distance} = \\text{speed} \\times \\text{time} = 90\\, \\text{mph} \\times 1.8\\, \\text{hours} = 162\\, \\text{miles}\n",
       "\\]\n",
       "\n",
       "---\n",
       "\n",
       "### Final answer:\n",
       "\\[\n",
       "\\boxed{162\\, \\text{miles}}\n",
       "\\]\n",
       "\n",
       "The bird travels **162 miles** in total."
      ],
      "text/plain": [
       "<IPython.core.display.Markdown object>"
      ]
     },
     "metadata": {},
     "output_type": "display_data"
    }
   ],
   "source": [
    "from IPython.display import Markdown, display\n",
    "\n",
    "display(Markdown(answer))\n",
    "\n"
   ]
  },
  {
   "cell_type": "markdown",
   "metadata": {},
   "source": [
    "<table style=\"margin: 0; text-align: left; width:100%\">\n",
    "    <tr>\n",
    "        <td>\n",
    "            <h2 style=\"color:#ff7800;\">Exercise</h2>\n",
    "            <span style=\"color:#ff7800;\">Now try this commercial application:<br/>\n",
    "            First ask the LLM to pick a business area that might be worth exploring for an Agentic AI opportunity.<br/>\n",
    "            Then ask the LLM to present a pain-point in that industry - something challenging that might be ripe for an Agentic solution.<br/>\n",
    "            Finally have 3 third LLM call propose the Agentic AI solution. <br/>\n",
    "            We will cover this at up-coming labs, so don't worry if you're unsure.. just give it a try!\n",
    "            </span>\n",
    "        </td>\n",
    "    </tr>\n",
    "</table>"
   ]
  },
  {
   "cell_type": "code",
   "execution_count": null,
   "metadata": {},
   "outputs": [],
   "source": [
    "# First create the messages:\n",
    "\n",
    "messages = [{\"role\": \"user\", \"content\": \"Something here\"}]\n",
    "\n",
    "# Then make the first call:\n",
    "\n",
    "response =\n",
    "\n",
    "# Then read the business idea:\n",
    "\n",
    "business_idea = response.\n",
    "\n",
    "# And repeat! In the next message, include the business idea within the message"
   ]
  },
  {
   "cell_type": "markdown",
   "metadata": {},
   "source": []
  }
 ],
 "metadata": {
  "kernelspec": {
   "display_name": ".venv",
   "language": "python",
   "name": "python3"
  },
  "language_info": {
   "codemirror_mode": {
    "name": "ipython",
    "version": 3
   },
   "file_extension": ".py",
   "mimetype": "text/x-python",
   "name": "python",
   "nbconvert_exporter": "python",
   "pygments_lexer": "ipython3",
   "version": "3.12.11"
  }
 },
 "nbformat": 4,
 "nbformat_minor": 2
}
